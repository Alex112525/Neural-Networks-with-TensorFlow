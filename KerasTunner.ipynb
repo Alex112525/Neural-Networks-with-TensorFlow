{
  "nbformat": 4,
  "nbformat_minor": 0,
  "metadata": {
    "colab": {
      "provenance": [],
      "authorship_tag": "ABX9TyOUrFQTQf2Ye5a0mhBm2AL4",
      "include_colab_link": true
    },
    "kernelspec": {
      "name": "python3",
      "display_name": "Python 3"
    },
    "language_info": {
      "name": "python"
    }
  },
  "cells": [
    {
      "cell_type": "markdown",
      "metadata": {
        "id": "view-in-github",
        "colab_type": "text"
      },
      "source": [
        "<a href=\"https://colab.research.google.com/github/Alex112525/Neural-Networks-with-TensorFlow/blob/main/KerasTunner.ipynb\" target=\"_parent\"><img src=\"https://colab.research.google.com/assets/colab-badge.svg\" alt=\"Open In Colab\"/></a>"
      ]
    },
    {
      "cell_type": "code",
      "execution_count": 1,
      "metadata": {
        "id": "cgpn49DzoUll",
        "colab": {
          "base_uri": "https://localhost:8080/"
        },
        "outputId": "a0be685d-75ad-4db1-9b24-ffd59c5a33c8"
      },
      "outputs": [
        {
          "output_type": "stream",
          "name": "stdout",
          "text": [
            "--2023-02-24 00:19:23--  https://storage.googleapis.com/platzi-tf2/sign-language-img.zip\n",
            "Resolving storage.googleapis.com (storage.googleapis.com)... 64.233.189.128, 108.177.97.128, 108.177.125.128, ...\n",
            "Connecting to storage.googleapis.com (storage.googleapis.com)|64.233.189.128|:443... connected.\n",
            "HTTP request sent, awaiting response... 200 OK\n",
            "Length: 24265584 (23M) [application/zip]\n",
            "Saving to: ‘sign-language-img.zip’\n",
            "\n",
            "sign-language-img.z 100%[===================>]  23.14M  15.8MB/s    in 1.5s    \n",
            "\n",
            "2023-02-24 00:19:25 (15.8 MB/s) - ‘sign-language-img.zip’ saved [24265584/24265584]\n",
            "\n"
          ]
        }
      ],
      "source": [
        "!wget --no-check-certificate https://storage.googleapis.com/platzi-tf2/sign-language-img.zip "
      ]
    },
    {
      "cell_type": "code",
      "source": [
        "!unzip -q /content/sign-language-img.zip -d Dataset"
      ],
      "metadata": {
        "id": "r7qiGU86TugN"
      },
      "execution_count": 2,
      "outputs": []
    },
    {
      "cell_type": "markdown",
      "source": [
        "Keras Tuner is a library that helps to optimize hyperparameters for machine learning models built with TensorFlow and Keras. It allows you to define a search space of hyperparameters and uses various techniques to search through the space to find the optimal set of hyperparameters that can lead to better model performance. Keras Tuner can be used for various types of machine learning models, including image classification, text classification, and time-series forecasting."
      ],
      "metadata": {
        "id": "tBvl7rv_X2wA"
      }
    },
    {
      "cell_type": "code",
      "source": [
        "!pip install -q -U keras-tuner"
      ],
      "metadata": {
        "colab": {
          "base_uri": "https://localhost:8080/"
        },
        "id": "RdUIR4ksPvDa",
        "outputId": "6f3408ed-32c2-4f22-a0c1-0724776565c4"
      },
      "execution_count": 3,
      "outputs": [
        {
          "output_type": "stream",
          "name": "stdout",
          "text": [
            "\u001b[2K     \u001b[90m━━━━━━━━━━━━━━━━━━━━━━━━━━━━━━━━━━━━━━━\u001b[0m \u001b[32m167.3/167.3 KB\u001b[0m \u001b[31m2.0 MB/s\u001b[0m eta \u001b[36m0:00:00\u001b[0m\n",
            "\u001b[2K     \u001b[90m━━━━━━━━━━━━━━━━━━━━━━━━━━━━━━━━━━━━━━━━\u001b[0m \u001b[32m1.6/1.6 MB\u001b[0m \u001b[31m18.7 MB/s\u001b[0m eta \u001b[36m0:00:00\u001b[0m\n",
            "\u001b[?25h"
          ]
        }
      ]
    },
    {
      "cell_type": "code",
      "source": [
        "import numpy as np\n",
        "import os\n",
        "%matplotlib inline\n",
        "import matplotlib.pyplot as plt\n",
        "\n",
        "import tensorflow as tf\n",
        "from tensorflow import keras\n",
        "from tensorflow.keras.callbacks import Callback\n",
        "from tensorflow.keras.preprocessing.image import ImageDataGenerator\n",
        "\n",
        "import keras_tuner as kt\n",
        "from keras import models, layers, optimizers, regularizers"
      ],
      "metadata": {
        "id": "euTIK4NKLL_j"
      },
      "execution_count": 4,
      "outputs": []
    },
    {
      "cell_type": "markdown",
      "source": [
        "#Import Dataset"
      ],
      "metadata": {
        "id": "EuMbZIZHqBCV"
      }
    },
    {
      "cell_type": "code",
      "source": [
        "train_dir = \"/content/Dataset/Test\"\n",
        "test_dir = \"/content/Dataset/Train\""
      ],
      "metadata": {
        "id": "-mohK-JJLiBq"
      },
      "execution_count": 5,
      "outputs": []
    },
    {
      "cell_type": "markdown",
      "source": [
        "Create Datagenerators"
      ],
      "metadata": {
        "id": "tr3UnREtqEqG"
      }
    },
    {
      "cell_type": "code",
      "source": [
        "train_datagen = ImageDataGenerator(rescale = 1/255)\n",
        "test_datagen = ImageDataGenerator(rescale = 1/255, validation_split=0.3)"
      ],
      "metadata": {
        "id": "z89E853wMr4H"
      },
      "execution_count": 6,
      "outputs": []
    },
    {
      "cell_type": "code",
      "source": [
        "train_generator = train_datagen.flow_from_directory(\n",
        "    train_dir,\n",
        "    target_size = (28, 28),\n",
        "    batch_size = 128,\n",
        "    shuffle=True,\n",
        "    class_mode = \"categorical\",\n",
        "    color_mode = \"grayscale\",\n",
        "    subset = \"training\"\n",
        ")\n",
        "\n",
        "validation_generator = test_datagen.flow_from_directory(\n",
        "    test_dir,\n",
        "    target_size = (28, 28),\n",
        "    batch_size = 128,\n",
        "    shuffle=True,\n",
        "    class_mode = \"categorical\",\n",
        "    color_mode = \"grayscale\",\n",
        "    subset = \"validation\"\n",
        ")\n",
        "\n",
        "test_generator = test_datagen.flow_from_directory(\n",
        "    test_dir,\n",
        "    target_size = (28, 28),\n",
        "    batch_size = 128,\n",
        "    shuffle=True,\n",
        "    class_mode = \"categorical\",\n",
        "    color_mode = \"grayscale\"\n",
        ")"
      ],
      "metadata": {
        "colab": {
          "base_uri": "https://localhost:8080/"
        },
        "id": "_2dTZE4mNRpG",
        "outputId": "c684cbf1-6f57-491a-b075-3b5a735d76c2"
      },
      "execution_count": 7,
      "outputs": [
        {
          "output_type": "stream",
          "name": "stdout",
          "text": [
            "Found 7172 images belonging to 24 classes.\n",
            "Found 8226 images belonging to 24 classes.\n",
            "Found 27455 images belonging to 24 classes.\n"
          ]
        }
      ]
    },
    {
      "cell_type": "markdown",
      "source": [
        "Load class names"
      ],
      "metadata": {
        "id": "sDdxFt0Ny97P"
      }
    },
    {
      "cell_type": "code",
      "source": [
        "class_names = sorted(os.listdir(train_dir))\n",
        "n_classes = len(class_names)\n",
        "print(class_names,\" Classes:\", n_classes)"
      ],
      "metadata": {
        "colab": {
          "base_uri": "https://localhost:8080/"
        },
        "id": "B_bW6G9hOQHb",
        "outputId": "c9ad9206-de09-49b8-d742-3935c97bb2ef"
      },
      "execution_count": 8,
      "outputs": [
        {
          "output_type": "stream",
          "name": "stdout",
          "text": [
            "['A', 'B', 'C', 'D', 'E', 'F', 'G', 'H', 'I', 'K', 'L', 'M', 'N', 'O', 'P', 'Q', 'R', 'S', 'T', 'U', 'V', 'W', 'X', 'Y']  Classes: 24\n"
          ]
        }
      ]
    },
    {
      "cell_type": "code",
      "source": [
        "def plotImages(images_arr):\n",
        "  fig, axes = plt.subplots(1, 5, figsize = (10, 10))\n",
        "  axes = axes.flatten()\n",
        "  for img, ax in zip(images_arr, axes):\n",
        "    ax.imshow(img[:,:,0])\n",
        "    ax.axis(\"off\")\n",
        "  plt.tight_layout()\n",
        "  plt.show()"
      ],
      "metadata": {
        "id": "dZQr0OFTOoPN"
      },
      "execution_count": 9,
      "outputs": []
    },
    {
      "cell_type": "markdown",
      "source": [
        "Test Generators"
      ],
      "metadata": {
        "id": "nwIKceFszBJF"
      }
    },
    {
      "cell_type": "code",
      "source": [
        "sample_training_images, _= next(train_generator)\n",
        "plotImages(sample_training_images[:5])"
      ],
      "metadata": {
        "colab": {
          "base_uri": "https://localhost:8080/",
          "height": 162
        },
        "id": "xULi_mSrPIAS",
        "outputId": "0fbddbc8-e6da-4bfc-ac8b-250b21c5e735"
      },
      "execution_count": 10,
      "outputs": [
        {
          "output_type": "display_data",
          "data": {
            "text/plain": [
              "<Figure size 720x720 with 5 Axes>"
            ],
            "image/png": "[encoded data removed]"
          },
          "metadata": {
            "needs_background": "light"
          }
        }
      ]
    },
    {
      "cell_type": "markdown",
      "source": [
        "Function to build all different models"
      ],
      "metadata": {
        "id": "vZEz4vZr_EFv"
      }
    },
    {
      "cell_type": "code",
      "source": [
        "def build_models(hp):\n",
        "  model = models.Sequential()\n",
        "  model.add(layers.Input(shape = (28, 28, 1)))\n",
        "  model.add(layers.Conv2D(64, 3, activation=\"relu\"))\n",
        "  model.add(layers.MaxPool2D((2, 2)))\n",
        "  model.add(layers.Conv2D(32, 3, activation=\"relu\"))\n",
        "  model.add(layers.MaxPool2D((2, 2)))\n",
        "  model.add(layers.Flatten())\n",
        "\n",
        "  hp_units = hp.Int(\"units\", min_value = 64, max_value = 512, step = 64)\n",
        "\n",
        "  model.add(layers.Dense(units=hp_units, activation=\"relu\", kernel_regularizer=regularizers.l2(1e-5)))\n",
        "  model.add(layers.Dropout(0.5))\n",
        "  model.add(layers.Dense(32, activation=\"relu\", kernel_regularizer=regularizers.l2(1e-5)))\n",
        "  model.add(layers.Dropout(0.5))\n",
        "  model.add(layers.Dense(n_classes, activation=\"softmax\"))\n",
        "\n",
        "  hp_learning_rate = hp.Choice('learning_rate', values = [15e-4, 1e-3])\n",
        "\n",
        "  model.compile(optimizer = optimizers.Adam(learning_rate=hp_learning_rate),\n",
        "                loss = \"categorical_crossentropy\",\n",
        "                metrics = [\"accuracy\"])\n",
        "  return model"
      ],
      "metadata": {
        "id": "1mC0yUSfP4id"
      },
      "execution_count": 11,
      "outputs": []
    },
    {
      "cell_type": "markdown",
      "source": [
        "This code creates an instance of a KerasTuner Hyperband object named \"tuner\". The Hyperband algorithm is a hyperparameter optimization technique that uses a combination of random search and early stopping.\n",
        "\n",
        " * The **\"build_models\"** argument specifies a function that creates a Keras model to be trained and evaluated.\n",
        " *The **\"objective\"** argument specifies the metric to be used to evaluate the performance of the models.\n",
        " *The **\"max_epochs\"** argument specifies the maximum number of epochs to train each model.\n",
        " *The **\"factor\"** argument specifies the reduction factor for the number of models to keep in each round of the hyperband algorithm. \n",
        " *Finally, the **\"directory\"** and **\"project_name\"** arguments specify the directory where the hyperparameter search results will be stored."
      ],
      "metadata": {
        "id": "4rNaMugoYLEK"
      }
    },
    {
      "cell_type": "code",
      "source": [
        "tuner = kt.Hyperband(\n",
        "    build_models,\n",
        "    objective = \"val_accuracy\",\n",
        "    max_epochs = 12,\n",
        "    factor = 3,\n",
        "    directory = \"models/\",\n",
        "    project_name = \"tunner\"\n",
        ")"
      ],
      "metadata": {
        "id": "rfRAPMUNQ25N"
      },
      "execution_count": 12,
      "outputs": []
    },
    {
      "cell_type": "code",
      "source": [
        "class TrainingCallback(Callback):\n",
        "  def on_epoch_end(self, epoch, logs={}):\n",
        "    if logs.get(\"accuracy\") > .90:\n",
        "      print('Finished epoch {} with 95% accuracy, stop training'.format(epoch)) \n",
        "      self.model.stop_training = True\n",
        "\n",
        "stop_training_callback = TrainingCallback()"
      ],
      "metadata": {
        "id": "LlSiE1AZskiJ"
      },
      "execution_count": 13,
      "outputs": []
    },
    {
      "cell_type": "code",
      "source": [
        "early_stop = tf.keras.callbacks.EarlyStopping(monitor=\"val_accuracy\", patience=3, mode=\"auto\")"
      ],
      "metadata": {
        "id": "d4A1-AB4bFLb"
      },
      "execution_count": 14,
      "outputs": []
    },
    {
      "cell_type": "markdown",
      "source": [
        "This code is using the KerasTuner library to perform hyperparameter tuning for a deep learning model."
      ],
      "metadata": {
        "id": "DGkpAGBfZM4x"
      }
    },
    {
      "cell_type": "code",
      "source": [
        "tuner.search(train_generator,\n",
        "             epochs=10,\n",
        "             callbacks=[stop_training_callback, early_stop],\n",
        "             validation_data=validation_generator)"
      ],
      "metadata": {
        "colab": {
          "base_uri": "https://localhost:8080/"
        },
        "id": "ijl9huhaRFlW",
        "outputId": "b64d3bac-e1ad-49f6-8f61-812d4195a383"
      },
      "execution_count": 15,
      "outputs": [
        {
          "output_type": "stream",
          "name": "stdout",
          "text": [
            "Trial 30 Complete [00h 03m 51s]\n",
            "val_accuracy: 0.6780938506126404\n",
            "\n",
            "Best val_accuracy So Far: 0.7120106816291809\n",
            "Total elapsed time: 00h 44m 08s\n"
          ]
        }
      ]
    },
    {
      "cell_type": "markdown",
      "source": [
        "The line **best_hps = tuner.get_best_hyperparameters(num_trials =1)[0]** retrieves the best hyperparameters found during the Keras Tuner search process. It returns the best set of hyperparameters as a HyperParameters object that can be used to create and compile a model for further training and evaluation. The argument num_trials specifies how many of the top performing hyperparameters to retrieve. In this case, num_trials is set to 1, so the function returns only the single best set of hyperparameters."
      ],
      "metadata": {
        "id": "5Ks9einiypcW"
      }
    },
    {
      "cell_type": "code",
      "source": [
        "best_hps = tuner.get_best_hyperparameters(num_trials=1)[0]\n",
        "print(best_hps.get(\"units\"))\n",
        "print(best_hps.get(\"learning_rate\"))"
      ],
      "metadata": {
        "colab": {
          "base_uri": "https://localhost:8080/"
        },
        "id": "mP2SPZfnRGZL",
        "outputId": "f99e87da-c587-4c33-a4de-3591597c08d4"
      },
      "execution_count": 16,
      "outputs": [
        {
          "output_type": "stream",
          "name": "stdout",
          "text": [
            "384\n",
            "0.0015\n"
          ]
        }
      ]
    },
    {
      "cell_type": "markdown",
      "source": [
        "#Build and train the best model"
      ],
      "metadata": {
        "id": "ePgio2viytv3"
      }
    },
    {
      "cell_type": "code",
      "source": [
        "hypermodel = tuner.hypermodel.build(best_hps)\n",
        "hypermodel.summary()"
      ],
      "metadata": {
        "colab": {
          "base_uri": "https://localhost:8080/"
        },
        "id": "I1MDZ1W_RP4q",
        "outputId": "8f8b3b42-0f32-46d0-d3a4-0ae68f1518c7"
      },
      "execution_count": 17,
      "outputs": [
        {
          "output_type": "stream",
          "name": "stdout",
          "text": [
            "Model: \"sequential_1\"\n",
            "_________________________________________________________________\n",
            " Layer (type)                Output Shape              Param #   \n",
            "=================================================================\n",
            " conv2d_2 (Conv2D)           (None, 26, 26, 64)        640       \n",
            "                                                                 \n",
            " max_pooling2d_2 (MaxPooling  (None, 13, 13, 64)       0         \n",
            " 2D)                                                             \n",
            "                                                                 \n",
            " conv2d_3 (Conv2D)           (None, 11, 11, 32)        18464     \n",
            "                                                                 \n",
            " max_pooling2d_3 (MaxPooling  (None, 5, 5, 32)         0         \n",
            " 2D)                                                             \n",
            "                                                                 \n",
            " flatten_1 (Flatten)         (None, 800)               0         \n",
            "                                                                 \n",
            " dense_3 (Dense)             (None, 384)               307584    \n",
            "                                                                 \n",
            " dropout_2 (Dropout)         (None, 384)               0         \n",
            "                                                                 \n",
            " dense_4 (Dense)             (None, 32)                12320     \n",
            "                                                                 \n",
            " dropout_3 (Dropout)         (None, 32)                0         \n",
            "                                                                 \n",
            " dense_5 (Dense)             (None, 24)                792       \n",
            "                                                                 \n",
            "=================================================================\n",
            "Total params: 339,800\n",
            "Trainable params: 339,800\n",
            "Non-trainable params: 0\n",
            "_________________________________________________________________\n"
          ]
        }
      ]
    },
    {
      "cell_type": "code",
      "source": [
        "times = 20\n",
        "history_hypermodel = hypermodel.fit(\n",
        "    train_generator,\n",
        "    epochs = times,\n",
        "    callbacks = [stop_training_callback],\n",
        "    validation_data = validation_generator\n",
        ")"
      ],
      "metadata": {
        "colab": {
          "base_uri": "https://localhost:8080/"
        },
        "id": "-rSoyvfGn7hB",
        "outputId": "11b7ccb0-8b70-4ff6-91ff-aea87deb1c42"
      },
      "execution_count": 18,
      "outputs": [
        {
          "output_type": "stream",
          "name": "stdout",
          "text": [
            "Epoch 1/20\n",
            "57/57 [==============================] - 17s 290ms/step - loss: 3.1641 - accuracy: 0.0668 - val_loss: 3.1521 - val_accuracy: 0.0694\n",
            "Epoch 2/20\n",
            "57/57 [==============================] - 15s 265ms/step - loss: 2.8193 - accuracy: 0.1603 - val_loss: 2.5699 - val_accuracy: 0.2124\n",
            "Epoch 3/20\n",
            "57/57 [==============================] - 16s 284ms/step - loss: 2.1727 - accuracy: 0.3277 - val_loss: 1.8794 - val_accuracy: 0.4320\n",
            "Epoch 4/20\n",
            "57/57 [==============================] - 17s 291ms/step - loss: 1.5933 - accuracy: 0.4826 - val_loss: 1.5390 - val_accuracy: 0.5208\n",
            "Epoch 5/20\n",
            "57/57 [==============================] - 20s 355ms/step - loss: 1.2649 - accuracy: 0.5739 - val_loss: 1.3036 - val_accuracy: 0.6072\n",
            "Epoch 6/20\n",
            "57/57 [==============================] - 16s 278ms/step - loss: 0.9823 - accuracy: 0.6605 - val_loss: 1.2553 - val_accuracy: 0.6317\n",
            "Epoch 7/20\n",
            "57/57 [==============================] - 18s 313ms/step - loss: 0.7981 - accuracy: 0.7269 - val_loss: 1.1585 - val_accuracy: 0.6747\n",
            "Epoch 8/20\n",
            "57/57 [==============================] - 16s 274ms/step - loss: 0.7011 - accuracy: 0.7665 - val_loss: 1.1964 - val_accuracy: 0.6686\n",
            "Epoch 9/20\n",
            "57/57 [==============================] - 15s 262ms/step - loss: 0.6276 - accuracy: 0.7812 - val_loss: 1.2359 - val_accuracy: 0.6771\n",
            "Epoch 10/20\n",
            "57/57 [==============================] - 16s 289ms/step - loss: 0.5210 - accuracy: 0.8136 - val_loss: 1.2479 - val_accuracy: 0.6815\n",
            "Epoch 11/20\n",
            "57/57 [==============================] - 16s 288ms/step - loss: 0.4610 - accuracy: 0.8378 - val_loss: 1.2773 - val_accuracy: 0.7031\n",
            "Epoch 12/20\n",
            "57/57 [==============================] - 16s 283ms/step - loss: 0.4069 - accuracy: 0.8593 - val_loss: 1.3067 - val_accuracy: 0.7050\n",
            "Epoch 13/20\n",
            "57/57 [==============================] - 16s 289ms/step - loss: 0.3721 - accuracy: 0.8727 - val_loss: 1.4474 - val_accuracy: 0.6946\n",
            "Epoch 14/20\n",
            "57/57 [==============================] - 16s 271ms/step - loss: 0.3174 - accuracy: 0.8921 - val_loss: 1.4353 - val_accuracy: 0.7080\n",
            "Epoch 15/20\n",
            "57/57 [==============================] - 15s 264ms/step - loss: 0.3139 - accuracy: 0.8908 - val_loss: 1.5651 - val_accuracy: 0.7069\n",
            "Epoch 16/20\n",
            "57/57 [==============================] - 15s 262ms/step - loss: 0.3005 - accuracy: 0.8931 - val_loss: 1.5315 - val_accuracy: 0.7075\n",
            "Epoch 17/20\n",
            "57/57 [==============================] - ETA: 0s - loss: 0.2731 - accuracy: 0.9096Finished epoch 16 with 95% accuracy, stop training\n",
            "57/57 [==============================] - 15s 261ms/step - loss: 0.2731 - accuracy: 0.9096 - val_loss: 1.5687 - val_accuracy: 0.7141\n"
          ]
        }
      ]
    },
    {
      "cell_type": "markdown",
      "source": [
        "#Results"
      ],
      "metadata": {
        "id": "-30Xg9P-y34V"
      }
    },
    {
      "cell_type": "code",
      "source": [
        "def results_visualization(history, epoch):\n",
        "  epochs = [i for i in range(epoch)]\n",
        "  fig, ax = plt.subplots(1,2)\n",
        "  train_acc = history.history[\"accuracy\"]\n",
        "  train_loss = history.history[\"loss\"]\n",
        "  val_acc = history.history[\"val_accuracy\"]\n",
        "  val_loss = history.history[\"val_loss\"]\n",
        "  fig.set_size_inches(16,9)\n",
        "\n",
        "  ax[0].plot(epochs, train_acc, \"go-\",label = \"Train accuracy\")\n",
        "  ax[0].plot(epochs, val_acc, \"ro-\",label = \"Validation accuracy\")\n",
        "  ax[0].set_title(\"Accuracy\")\n",
        "  ax[0].legend()\n",
        "  ax[0].set_xlabel(\"Epochs\")\n",
        "  ax[0].set_ylabel(\"Accuracy\")\n",
        "\n",
        "  ax[1].plot(epochs, train_loss, \"go-\",label = \"Train loss\")\n",
        "  ax[1].plot(epochs, val_loss, \"ro-\",label = \"Validation loss\")\n",
        "  ax[1].set_title(\"Loss\")\n",
        "  ax[1].legend()\n",
        "  ax[1].set_xlabel(\"Epochs\")\n",
        "  ax[1].set_ylabel(\"Loss\")\n",
        "\n",
        "  plt.show() "
      ],
      "metadata": {
        "id": "sJupihCZRd4e"
      },
      "execution_count": 21,
      "outputs": []
    },
    {
      "cell_type": "code",
      "source": [
        "results_visualization(history_hypermodel, 17)"
      ],
      "metadata": {
        "colab": {
          "base_uri": "https://localhost:8080/",
          "height": 567
        },
        "id": "wctb8txiResI",
        "outputId": "50604b4f-f9a1-456d-ff28-5ae3e58a3b33"
      },
      "execution_count": 22,
      "outputs": [
        {
          "output_type": "display_data",
          "data": {
            "text/plain": [
              "<Figure size 1152x648 with 2 Axes>"
            ],
            "image/png": "[encoded data removed]"
          },
          "metadata": {
            "needs_background": "light"
          }
        }
      ]
    }
  ]
}