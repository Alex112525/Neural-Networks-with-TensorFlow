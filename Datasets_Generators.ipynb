{
  "nbformat": 4,
  "nbformat_minor": 0,
  "metadata": {
    "colab": {
      "provenance": [],
      "authorship_tag": "ABX9TyPsSq14emle5Dssd9rbIpw2",
      "include_colab_link": true
    },
    "kernelspec": {
      "name": "python3",
      "display_name": "Python 3"
    },
    "language_info": {
      "name": "python"
    }
  },
  "cells": [
    {
      "cell_type": "markdown",
      "metadata": {
        "id": "view-in-github",
        "colab_type": "text"
      },
      "source": [
        "<a href=\"https://colab.research.google.com/github/Alex112525/Neural-Networks-with-TensorFlow/blob/main/Datasets_Generators.ipynb\" target=\"_parent\"><img src=\"https://colab.research.google.com/assets/colab-badge.svg\" alt=\"Open In Colab\"/></a>"
      ]
    },
    {
      "cell_type": "markdown",
      "source": [
        "#What is a data generator? \n",
        "\n",
        "In the context of machine learning, a data generator is a function or an object that allows you to generate and feed data to a model in a way that doesn't require loading all the data into memory at once. This is particularly useful when dealing with large datasets that cannot fit in memory, or when working with data that can be generated on the fly. The data generator can provide data in batches and perform various data augmentation techniques to increase the diversity of the data."
      ],
      "metadata": {
        "id": "9ZRGk-91Jsgh"
      }
    },
    {
      "cell_type": "code",
      "execution_count": null,
      "metadata": {
        "id": "cgpn49DzoUll"
      },
      "outputs": [],
      "source": [
        "!wget --no-check-certificate https://storage.googleapis.com/platzi-tf2/sign-language-img.zip \\\n",
        "    -O /tmp/sign-language-img.zip"
      ]
    },
    {
      "cell_type": "code",
      "source": [
        "import os \n",
        "import zipfile\n",
        "\n",
        "local_zip = \"/tmp/sign-language-img.zip\"\n",
        "zip_ref = zipfile.ZipFile(local_zip, \"r\")\n",
        "zip_ref.extractall()\n",
        "zip_ref.close()"
      ],
      "metadata": {
        "id": "ueJHR5aHKfx1"
      },
      "execution_count": 2,
      "outputs": []
    },
    {
      "cell_type": "code",
      "source": [
        "import numpy as np\n",
        "%matplotlib inline\n",
        "import matplotlib.pyplot as plt\n",
        "import matplotlib.image as mpimg\n",
        "import string\n",
        "import tensorflow as tf\n",
        "from tensorflow.keras.preprocessing.image import ImageDataGenerator"
      ],
      "metadata": {
        "id": "euTIK4NKLL_j"
      },
      "execution_count": 3,
      "outputs": []
    },
    {
      "cell_type": "code",
      "source": [
        "train_dir = \"/content/Train\"\n",
        "test_dir = \"/content/Test\""
      ],
      "metadata": {
        "id": "-mohK-JJLiBq"
      },
      "execution_count": 5,
      "outputs": []
    },
    {
      "cell_type": "markdown",
      "source": [
        "The code **train_datagen = ImageDataGenerator(rescale = 1/255)** creates an *ImageDataGenerator* object that applies a rescaling transformation to the input images during training. The rescale argument sets the scaling factor for the pixel values, which in this case will be divided by 255 to normalize them between 0 and 1. \n",
        "\n",
        "This is a common preprocessing step that can help improve the performance of deep learning models."
      ],
      "metadata": {
        "id": "_Tgv9m_rPabV"
      }
    },
    {
      "cell_type": "code",
      "source": [
        "train_datagen = ImageDataGenerator(rescale = 1/255)\n",
        "test_datagen = ImageDataGenerator(rescale = 1/255, validation_split=0.3)"
      ],
      "metadata": {
        "id": "z89E853wMr4H"
      },
      "execution_count": 8,
      "outputs": []
    },
    {
      "cell_type": "markdown",
      "source": [
        "The next code sets up an image data generator to load images from a directory, rescales pixel values to the range of 0 to 1, resizes images to 28x28, uses grayscale images, sets the batch size to 128, sets the class mode to \"categorical\" for multiclass classification. \n",
        "\n",
        "It returns a generator object that can be used to load batches of images and labels during model training."
      ],
      "metadata": {
        "id": "JzQghYsQQDnK"
      }
    },
    {
      "cell_type": "code",
      "source": [
        "train_generator = train_datagen.flow_from_directory(\n",
        "    train_dir,\n",
        "    target_size = (28, 28),\n",
        "    batch_size = 128,\n",
        "    class_mode = \"categorical\",\n",
        "    color_mode = \"grayscale\",\n",
        "    subset = \"training\"\n",
        ")\n",
        "\n",
        "validation_generator = test_datagen.flow_from_directory(\n",
        "    test_dir,\n",
        "    target_size = (28, 28),\n",
        "    batch_size = 128,\n",
        "    class_mode = \"categorical\",\n",
        "    color_mode = \"grayscale\",\n",
        "    subset = \"validation\"\n",
        ")\n",
        "\n",
        "test_generator = test_datagen.flow_from_directory(\n",
        "    test_dir,\n",
        "    target_size = (28, 28),\n",
        "    batch_size = 128,\n",
        "    class_mode = \"categorical\",\n",
        "    color_mode = \"grayscale\"\n",
        ")"
      ],
      "metadata": {
        "colab": {
          "base_uri": "https://localhost:8080/"
        },
        "id": "_2dTZE4mNRpG",
        "outputId": "cb58884f-79f9-476f-d009-434ce966d60d"
      },
      "execution_count": 9,
      "outputs": [
        {
          "output_type": "stream",
          "name": "stdout",
          "text": [
            "Found 27455 images belonging to 24 classes.\n",
            "Found 2141 images belonging to 24 classes.\n",
            "Found 7172 images belonging to 24 classes.\n"
          ]
        }
      ]
    },
    {
      "cell_type": "markdown",
      "source": [
        "Creating an array with the classes in our dataset"
      ],
      "metadata": {
        "id": "LH-d8JMTPtIj"
      }
    },
    {
      "cell_type": "code",
      "source": [
        "classes = [char for char in string.ascii_uppercase if char!=\"J\" or char!=\"Z\"]\n",
        "classes"
      ],
      "metadata": {
        "colab": {
          "base_uri": "https://localhost:8080/"
        },
        "id": "B_bW6G9hOQHb",
        "outputId": "e52d3f52-d8d2-4bbd-923a-83b38f1d1e3d"
      },
      "execution_count": 11,
      "outputs": [
        {
          "output_type": "execute_result",
          "data": {
            "text/plain": [
              "['A',\n",
              " 'B',\n",
              " 'C',\n",
              " 'D',\n",
              " 'E',\n",
              " 'F',\n",
              " 'G',\n",
              " 'H',\n",
              " 'I',\n",
              " 'J',\n",
              " 'K',\n",
              " 'L',\n",
              " 'M',\n",
              " 'N',\n",
              " 'O',\n",
              " 'P',\n",
              " 'Q',\n",
              " 'R',\n",
              " 'S',\n",
              " 'T',\n",
              " 'U',\n",
              " 'V',\n",
              " 'W',\n",
              " 'X',\n",
              " 'Y',\n",
              " 'Z']"
            ]
          },
          "metadata": {},
          "execution_count": 11
        }
      ]
    },
    {
      "cell_type": "code",
      "source": [
        "def plotImages(images_arr):\n",
        "  fig, axes = plt.subplots(1, 5, figsize = (10, 10))\n",
        "  axes = axes.flatten()\n",
        "  for img, ax in zip(images_arr, axes):\n",
        "    ax.imshow(img[:,:,0])\n",
        "    ax.axis(\"off\")\n",
        "  plt.tight_layout()\n",
        "  plt.show()"
      ],
      "metadata": {
        "id": "dZQr0OFTOoPN"
      },
      "execution_count": 12,
      "outputs": []
    },
    {
      "cell_type": "markdown",
      "source": [
        "Testing our **DataGenerator**"
      ],
      "metadata": {
        "id": "1Q-V9-DhQRXh"
      }
    },
    {
      "cell_type": "code",
      "source": [
        "sample_training_images, _= next(train_generator)\n",
        "plotImages(sample_training_images[:5])"
      ],
      "metadata": {
        "colab": {
          "base_uri": "https://localhost:8080/",
          "height": 162
        },
        "id": "xULi_mSrPIAS",
        "outputId": "6479080b-9a51-45a8-d6a4-64a7424c2e0c"
      },
      "execution_count": 13,
      "outputs": [
        {
          "output_type": "display_data",
          "data": {
            "text/plain": [
              "<Figure size 720x720 with 5 Axes>"
            ],
            "image/png": "[encoded data removed]"
          },
          "metadata": {
            "needs_background": "light"
          }
        }
      ]
    }
  ]
}